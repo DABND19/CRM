{
 "cells": [
  {
   "cell_type": "code",
   "execution_count": 1,
   "metadata": {},
   "outputs": [],
   "source": [
    "import numpy as np\n",
    "import pandas as pd\n",
    "import re\n",
    "import string\n",
    "import matplotlib.pyplot as plt"
   ]
  },
  {
   "cell_type": "code",
   "execution_count": null,
   "metadata": {},
   "outputs": [],
   "source": [
    "def "
   ]
  },
  {
   "cell_type": "markdown",
   "metadata": {},
   "source": [
    "## Скачиваем журнал"
   ]
  },
  {
   "cell_type": "code",
   "execution_count": 2,
   "metadata": {},
   "outputs": [],
   "source": [
    "file_name = 'ИК Папки 2020г.xls'\n",
    "sheet_name = 'ИК 2020 Р'"
   ]
  },
  {
   "cell_type": "code",
   "execution_count": 3,
   "metadata": {},
   "outputs": [
    {
     "data": {
      "text/plain": [
       "№ п/п                       float64\n",
       "Дата                         object\n",
       "№ договора                   object\n",
       "Наименование организации     object\n",
       "Адрес заказчика              object\n",
       "Вид работ                    object\n",
       "Стоимость работ              object\n",
       "Место хранения               object\n",
       "Исполнитель                  object\n",
       "Основание                    object\n",
       "Срок исполнения              object\n",
       "Срок действия договора       object\n",
       "№ акта                       object\n",
       "Число                        object\n",
       "№ протокола                  object\n",
       "№ заявки                     object\n",
       "dtype: object"
      ]
     },
     "execution_count": 3,
     "metadata": {},
     "output_type": "execute_result"
    }
   ],
   "source": [
    "xldf = pd.read_excel(file_name, sheet_name=sheet_name,\n",
    "                    header=1, nrows=170)\n",
    "\n",
    "# убираем безымянные стобцы\n",
    "xldf.drop(list(filter(lambda x: re.search(r'^Unnamed:', x) is not None,\n",
    "                      xldf.columns)), axis=1, inplace=True)\n",
    "\n",
    "# убираем пробелы по краям названий стобов\n",
    "xldf.columns = list(map(lambda x: re.sub(r'\\s+', ' ', x.strip()).lower().capitalize(), xldf.columns))\n",
    "xldf.dtypes"
   ]
  },
  {
   "cell_type": "markdown",
   "metadata": {},
   "source": [
    "## Преобразование типов"
   ]
  },
  {
   "cell_type": "code",
   "execution_count": 4,
   "metadata": {},
   "outputs": [
    {
     "data": {
      "text/plain": [
       "№ п/п                       float64\n",
       "Дата                         object\n",
       "№ договора                   object\n",
       "Наименование организации     object\n",
       "Адрес заказчика              object\n",
       "Вид работ                    object\n",
       "Стоимость работ              object\n",
       "Место хранения               object\n",
       "Исполнитель                  object\n",
       "Основание                    object\n",
       "Срок исполнения              object\n",
       "Срок действия договора       object\n",
       "№ акта                       object\n",
       "Число                        object\n",
       "№ протокола                  object\n",
       "№ заявки                     object\n",
       "dtype: object"
      ]
     },
     "execution_count": 4,
     "metadata": {},
     "output_type": "execute_result"
    }
   ],
   "source": [
    "xldf['Стоимость работ'] =\\\n",
    "xldf['Стоимость работ'].apply(lambda x: re.sub(r'\\s', '', x).replace(',', '.')\n",
    "                             if type(x) == str\n",
    "                             else x)\n",
    "xldf.dtypes"
   ]
  },
  {
   "cell_type": "code",
   "execution_count": 5,
   "metadata": {},
   "outputs": [],
   "source": [
    "xldf = xldf.astype({\n",
    "    '№ п/п':                                'Int64',\n",
    "    'Дата':                            'datetime64',\n",
    "    '№ договора':                          'string',\n",
    "    'Наименование организации':            'string',\n",
    "    'Адрес заказчика':                     'string',\n",
    "    'Вид работ':                           'string',\n",
    "    'Стоимость работ':                    'float64',\n",
    "    'Место хранения':                      'string',\n",
    "    'Исполнитель':                         'string',\n",
    "    'Основание':                           'string',\n",
    "    'Срок исполнения':                     'string',\n",
    "    'Срок действия договора':              'string',\n",
    "    '№ акта':                              'string',\n",
    "    'Число':                           'datetime64',\n",
    "    '№ протокола':                         'string',\n",
    "    '№ заявки':                            'string',\n",
    "})"
   ]
  },
  {
   "cell_type": "code",
   "execution_count": 6,
   "metadata": {},
   "outputs": [
    {
     "name": "stdout",
     "output_type": "stream",
     "text": [
      "<class 'pandas.core.frame.DataFrame'>\n",
      "RangeIndex: 170 entries, 0 to 169\n",
      "Data columns (total 16 columns):\n",
      " #   Column                    Non-Null Count  Dtype         \n",
      "---  ------                    --------------  -----         \n",
      " 0   № п/п                     92 non-null     Int64         \n",
      " 1   Дата                      170 non-null    datetime64[ns]\n",
      " 2   № договора                170 non-null    string        \n",
      " 3   Наименование организации  170 non-null    string        \n",
      " 4   Адрес заказчика           170 non-null    string        \n",
      " 5   Вид работ                 170 non-null    string        \n",
      " 6   Стоимость работ           168 non-null    float64       \n",
      " 7   Место хранения            170 non-null    string        \n",
      " 8   Исполнитель               168 non-null    string        \n",
      " 9   Основание                 169 non-null    string        \n",
      " 10  Срок исполнения           162 non-null    string        \n",
      " 11  Срок действия договора    28 non-null     string        \n",
      " 12  № акта                    144 non-null    string        \n",
      " 13  Число                     144 non-null    datetime64[ns]\n",
      " 14  № протокола               143 non-null    string        \n",
      " 15  № заявки                  167 non-null    string        \n",
      "dtypes: Int64(1), datetime64[ns](2), float64(1), string(12)\n",
      "memory usage: 21.5 KB\n"
     ]
    }
   ],
   "source": [
    "xldf.info()"
   ]
  },
  {
   "cell_type": "code",
   "execution_count": 7,
   "metadata": {},
   "outputs": [
    {
     "data": {
      "text/html": [
       "<div>\n",
       "<style scoped>\n",
       "    .dataframe tbody tr th:only-of-type {\n",
       "        vertical-align: middle;\n",
       "    }\n",
       "\n",
       "    .dataframe tbody tr th {\n",
       "        vertical-align: top;\n",
       "    }\n",
       "\n",
       "    .dataframe thead th {\n",
       "        text-align: right;\n",
       "    }\n",
       "</style>\n",
       "<table border=\"1\" class=\"dataframe\">\n",
       "  <thead>\n",
       "    <tr style=\"text-align: right;\">\n",
       "      <th></th>\n",
       "      <th>№ п/п</th>\n",
       "      <th>Дата</th>\n",
       "      <th>№ договора</th>\n",
       "      <th>Наименование организации</th>\n",
       "      <th>Адрес заказчика</th>\n",
       "      <th>Вид работ</th>\n",
       "      <th>Стоимость работ</th>\n",
       "      <th>Место хранения</th>\n",
       "      <th>Исполнитель</th>\n",
       "      <th>Основание</th>\n",
       "      <th>Срок исполнения</th>\n",
       "      <th>Срок действия договора</th>\n",
       "      <th>№ акта</th>\n",
       "      <th>Число</th>\n",
       "      <th>№ протокола</th>\n",
       "      <th>№ заявки</th>\n",
       "    </tr>\n",
       "  </thead>\n",
       "  <tbody>\n",
       "    <tr>\n",
       "      <th>0</th>\n",
       "      <td>5</td>\n",
       "      <td>2020-01-09</td>\n",
       "      <td>03/01-20 ИК</td>\n",
       "      <td>ГБУЗ СК \"Георгиевская РБ\"</td>\n",
       "      <td>г. Георгиевск</td>\n",
       "      <td>ИК</td>\n",
       "      <td>115285.0</td>\n",
       "      <td>Папка Договора ИК</td>\n",
       "      <td>Полищук В.М</td>\n",
       "      <td>Договор</td>\n",
       "      <td>20 р.д.</td>\n",
       "      <td>&lt;NA&gt;</td>\n",
       "      <td>15</td>\n",
       "      <td>2020-01-14</td>\n",
       "      <td>06025-06055</td>\n",
       "      <td>359</td>\n",
       "    </tr>\n",
       "    <tr>\n",
       "      <th>1</th>\n",
       "      <td>6</td>\n",
       "      <td>2020-01-14</td>\n",
       "      <td>06/01-20 ИК</td>\n",
       "      <td>ООО «Стоматолог»</td>\n",
       "      <td>г. Пятигорск</td>\n",
       "      <td>ИК</td>\n",
       "      <td>95600.0</td>\n",
       "      <td>Папка Договора ИК</td>\n",
       "      <td>Косиков А.В.</td>\n",
       "      <td>Договор</td>\n",
       "      <td>20 р.д.</td>\n",
       "      <td>&lt;NA&gt;</td>\n",
       "      <td>17</td>\n",
       "      <td>2020-01-14</td>\n",
       "      <td>06307-06331</td>\n",
       "      <td>015</td>\n",
       "    </tr>\n",
       "    <tr>\n",
       "      <th>2</th>\n",
       "      <td>7</td>\n",
       "      <td>2020-01-20</td>\n",
       "      <td>П 08/01-20 ИК</td>\n",
       "      <td>ГБУЗ СК \"ЦРБ\"</td>\n",
       "      <td>г. Прохладный</td>\n",
       "      <td>ИК</td>\n",
       "      <td>25000.0</td>\n",
       "      <td>Папка Договора ИК</td>\n",
       "      <td>Панков А.Г.</td>\n",
       "      <td>Договор</td>\n",
       "      <td>15 р.д.</td>\n",
       "      <td>&lt;NA&gt;</td>\n",
       "      <td>42</td>\n",
       "      <td>2020-01-20</td>\n",
       "      <td>06113-06117</td>\n",
       "      <td>338</td>\n",
       "    </tr>\n",
       "    <tr>\n",
       "      <th>3</th>\n",
       "      <td>8</td>\n",
       "      <td>2020-01-21</td>\n",
       "      <td>П 09/01-20 ИК</td>\n",
       "      <td>НУЗ \"ОКБ\" на ст. Минеральные Воды ОАО «РЖД»</td>\n",
       "      <td>г. Минеральные Воды</td>\n",
       "      <td>ИК</td>\n",
       "      <td>24420.0</td>\n",
       "      <td>Папка Договора ИК</td>\n",
       "      <td>Панков А.Г.</td>\n",
       "      <td>Договор</td>\n",
       "      <td>15 р.д.</td>\n",
       "      <td>&lt;NA&gt;</td>\n",
       "      <td>43</td>\n",
       "      <td>2020-01-21</td>\n",
       "      <td>06332-06334</td>\n",
       "      <td>035</td>\n",
       "    </tr>\n",
       "    <tr>\n",
       "      <th>4</th>\n",
       "      <td>9</td>\n",
       "      <td>2019-01-27</td>\n",
       "      <td>К 14/01-20 ИК</td>\n",
       "      <td>ГБУЗ РВФД МЗ РСО-А</td>\n",
       "      <td>г.Владикавказ</td>\n",
       "      <td>ИК</td>\n",
       "      <td>37303.0</td>\n",
       "      <td>Папка Договора ИК</td>\n",
       "      <td>Косиков А.В.</td>\n",
       "      <td>Договор</td>\n",
       "      <td>15 р.д.</td>\n",
       "      <td>Нет расчета</td>\n",
       "      <td>64</td>\n",
       "      <td>2020-01-27</td>\n",
       "      <td>06412-06415</td>\n",
       "      <td>047</td>\n",
       "    </tr>\n",
       "  </tbody>\n",
       "</table>\n",
       "</div>"
      ],
      "text/plain": [
       "   № п/п       Дата     № договора  \\\n",
       "0      5 2020-01-09    03/01-20 ИК   \n",
       "1      6 2020-01-14    06/01-20 ИК   \n",
       "2      7 2020-01-20  П 08/01-20 ИК   \n",
       "3      8 2020-01-21  П 09/01-20 ИК   \n",
       "4      9 2019-01-27  К 14/01-20 ИК   \n",
       "\n",
       "                      Наименование организации      Адрес заказчика Вид работ  \\\n",
       "0                    ГБУЗ СК \"Георгиевская РБ\"        г. Георгиевск        ИК   \n",
       "1                             ООО «Стоматолог»         г. Пятигорск        ИК   \n",
       "2                                ГБУЗ СК \"ЦРБ\"        г. Прохладный        ИК   \n",
       "3  НУЗ \"ОКБ\" на ст. Минеральные Воды ОАО «РЖД»  г. Минеральные Воды        ИК   \n",
       "4                           ГБУЗ РВФД МЗ РСО-А        г.Владикавказ        ИК   \n",
       "\n",
       "   Стоимость работ      Место хранения   Исполнитель Основание  \\\n",
       "0         115285.0  Папка Договора ИК\n",
       "   Полищук В.М   Договор   \n",
       "1          95600.0  Папка Договора ИК\n",
       "  Косиков А.В.   Договор   \n",
       "2          25000.0  Папка Договора ИК\n",
       "   Панков А.Г.   Договор   \n",
       "3          24420.0  Папка Договора ИК\n",
       "   Панков А.Г.   Договор   \n",
       "4          37303.0  Папка Договора ИК\n",
       "  Косиков А.В.   Договор   \n",
       "\n",
       "  Срок исполнения Срок действия договора № акта      Число  № протокола  \\\n",
       "0         20 р.д.                   <NA>     15 2020-01-14  06025-06055   \n",
       "1         20 р.д.                   <NA>     17 2020-01-14  06307-06331   \n",
       "2         15 р.д.                   <NA>     42 2020-01-20  06113-06117   \n",
       "3         15 р.д.                   <NA>     43 2020-01-21  06332-06334   \n",
       "4         15 р.д.            Нет расчета     64 2020-01-27  06412-06415   \n",
       "\n",
       "  № заявки  \n",
       "0      359  \n",
       "1      015  \n",
       "2      338  \n",
       "3      035  \n",
       "4      047  "
      ]
     },
     "execution_count": 7,
     "metadata": {},
     "output_type": "execute_result"
    }
   ],
   "source": [
    "xldf.head()"
   ]
  },
  {
   "cell_type": "markdown",
   "metadata": {},
   "source": [
    "## Обзор остальных типов"
   ]
  },
  {
   "cell_type": "code",
   "execution_count": 8,
   "metadata": {},
   "outputs": [
    {
     "data": {
      "text/plain": [
       "{'№ п/п': 78,\n",
       " 'Дата': 107,\n",
       " '№ договора': 168,\n",
       " 'Наименование организации': 154,\n",
       " 'Адрес заказчика': 61,\n",
       " 'Вид работ': 4,\n",
       " 'Стоимость работ': 143,\n",
       " 'Место хранения': 2,\n",
       " 'Исполнитель': 12,\n",
       " 'Основание': 11,\n",
       " 'Срок исполнения': 21,\n",
       " 'Срок действия договора': 18,\n",
       " '№ акта': 142,\n",
       " 'Число': 94,\n",
       " '№ протокола': 105,\n",
       " '№ заявки': 135}"
      ]
     },
     "execution_count": 8,
     "metadata": {},
     "output_type": "execute_result"
    }
   ],
   "source": [
    "def get_unique_stats(df):\n",
    "    return dict(zip(df.columns, df.apply(lambda x: len(x.unique()))))\n",
    "    \n",
    "\n",
    "get_unique_stats(xldf)"
   ]
  },
  {
   "cell_type": "markdown",
   "metadata": {},
   "source": [
    "### № договора"
   ]
  },
  {
   "cell_type": "code",
   "execution_count": null,
   "metadata": {},
   "outputs": [],
   "source": []
  },
  {
   "cell_type": "markdown",
   "metadata": {},
   "source": [
    "### Наименование организации"
   ]
  },
  {
   "cell_type": "code",
   "execution_count": null,
   "metadata": {},
   "outputs": [],
   "source": []
  },
  {
   "cell_type": "code",
   "execution_count": 9,
   "metadata": {},
   "outputs": [],
   "source": [
    "# xldf['Наименование организации']=\\\n",
    "# xldf['Наименование организации'].apply(lambda x: re.sub(r'\\s+', ' ', x))\n",
    "\n",
    "# xldf['Наименование организации']=\\\n",
    "# xldf['Наименование организации'].apply(lambda x: re.sub(r'^\\s+|\\s+$', '', x))"
   ]
  },
  {
   "cell_type": "markdown",
   "metadata": {},
   "source": [
    "### Адрес заказчика"
   ]
  },
  {
   "cell_type": "code",
   "execution_count": 10,
   "metadata": {},
   "outputs": [],
   "source": [
    "xldf['Адрес заказчика'] = xldf['Адрес заказчика'].astype('string')"
   ]
  }
 ],
 "metadata": {
  "kernelspec": {
   "display_name": "Python 3",
   "language": "python",
   "name": "python3"
  },
  "language_info": {
   "codemirror_mode": {
    "name": "ipython",
    "version": 3
   },
   "file_extension": ".py",
   "mimetype": "text/x-python",
   "name": "python",
   "nbconvert_exporter": "python",
   "pygments_lexer": "ipython3",
   "version": "3.7.9"
  }
 },
 "nbformat": 4,
 "nbformat_minor": 4
}
